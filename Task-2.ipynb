{
 "cells": [
  {
   "cell_type": "code",
   "execution_count": null,
   "id": "f3452211",
   "metadata": {},
   "outputs": [],
   "source": []
  },
  {
   "cell_type": "code",
   "execution_count": null,
   "id": "23094346",
   "metadata": {},
   "outputs": [],
   "source": []
  },
  {
   "cell_type": "code",
   "execution_count": 4,
   "id": "2b3676c7",
   "metadata": {},
   "outputs": [
    {
     "name": "stdout",
     "output_type": "stream",
     "text": [
      "   event        date       country      city  \\\n",
      "0  click  2021-08-21  Saudi Arabia    Jeddah   \n",
      "1  click  2021-08-21  Saudi Arabia    Jeddah   \n",
      "2  click  2021-08-21         India  Ludhiana   \n",
      "3  click  2021-08-21        France   Unknown   \n",
      "4  click  2021-08-21      Maldives      Malé   \n",
      "\n",
      "                              artist          album          track  \\\n",
      "0                             Tesher    Jalebi Baby    Jalebi Baby   \n",
      "1                             Tesher    Jalebi Baby    Jalebi Baby   \n",
      "2                      Reyanna Maria      So Pretty      So Pretty   \n",
      "3  Simone & Simaria, Sebastian Yatra  No Llores Más  No Llores Más   \n",
      "4                             Tesher    Jalebi Baby    Jalebi Baby   \n",
      "\n",
      "           isrc                                linkid  \n",
      "0  QZNWQ2070741  2d896d31-97b6-4869-967b-1c5fb9cd4bb8  \n",
      "1  QZNWQ2070741  2d896d31-97b6-4869-967b-1c5fb9cd4bb8  \n",
      "2  USUM72100871  23199824-9cf5-4b98-942a-34965c3b0cc2  \n",
      "3  BRUM72003904  35573248-4e49-47c7-af80-08a960fa74cd  \n",
      "4  QZNWQ2070741  2d896d31-97b6-4869-967b-1c5fb9cd4bb8  \n",
      "Index(['event', 'date', 'country', 'city', 'artist', 'album', 'track', 'isrc',\n",
      "       'linkid'],\n",
      "      dtype='object')\n"
     ]
    }
   ],
   "source": [
    "import pandas as pd\n",
    "\n",
    "# Load the dataset\n",
    "data = pd.read_csv(\"traffic.csv\")\n",
    "\n",
    "# Display the first few rows\n",
    "print(data.head())\n",
    "print(data.columns)"
   ]
  },
  {
   "cell_type": "code",
   "execution_count": 5,
   "id": "ec0824af",
   "metadata": {},
   "outputs": [
    {
     "name": "stdout",
     "output_type": "stream",
     "text": [
      "Total Events: 226278\n",
      "Daily Event Counts:\n",
      "date\n",
      "2021-08-19    35361\n",
      "2021-08-20    34112\n",
      "2021-08-21    34083\n",
      "2021-08-22    32633\n",
      "2021-08-23    29808\n",
      "2021-08-24    29834\n",
      "2021-08-25    30447\n",
      "Name: count, dtype: int64\n"
     ]
    }
   ],
   "source": [
    "# Count and distribution of other events\n",
    "# Total number of events\n",
    "total_events = data['event'].count()\n",
    "print(f\"Total Events: {total_events}\")\n",
    "\n",
    "# Daily event counts\n",
    "daily_events = data['date'].value_counts().sort_index()\n",
    "print(\"Daily Event Counts:\")\n",
    "print(daily_events)\n",
    "\n"
   ]
  },
  {
   "cell_type": "code",
   "execution_count": 6,
   "id": "36b63eb1",
   "metadata": {},
   "outputs": [
    {
     "name": "stdout",
     "output_type": "stream",
     "text": [
      "Country Distribution:\n",
      "country\n",
      "Saudi Arabia     47334\n",
      "India            42992\n",
      "United States    32558\n",
      "France           15661\n",
      "Iraq              8260\n",
      "                 ...  \n",
      "Samoa                2\n",
      "Macao                2\n",
      "Afghanistan          2\n",
      "Lesotho              1\n",
      "Sint Maarten         1\n",
      "Name: count, Length: 211, dtype: int64\n",
      "City Distribution:\n",
      "city\n",
      "Jeddah       22791\n",
      "Riyadh       17454\n",
      "Unknown      16661\n",
      "Hyderabad     3682\n",
      "Dammam        3276\n",
      "             ...  \n",
      "Rimpar           1\n",
      "Limón            1\n",
      "Peaule           1\n",
      "Wantage          1\n",
      "Soumagne         1\n",
      "Name: count, Length: 11993, dtype: int64\n"
     ]
    }
   ],
   "source": [
    "# Geographical distribution of pageviews\n",
    "# Geographical distribution of events\n",
    "country_distribution = data['country'].value_counts()\n",
    "print(\"Country Distribution:\")\n",
    "print(country_distribution)\n",
    "\n",
    "city_distribution = data['city'].value_counts()\n",
    "print(\"City Distribution:\")\n",
    "print(city_distribution)\n"
   ]
  },
  {
   "cell_type": "code",
   "execution_count": 7,
   "id": "0f3703cd",
   "metadata": {},
   "outputs": [
    {
     "name": "stdout",
     "output_type": "stream",
     "text": [
      "Artist Distribution:\n",
      "artist\n",
      "Tesher                                                          40841\n",
      "Anne-Marie                                                      10650\n",
      "Tundra Beats                                                     9751\n",
      "Surf Mesa, Emilee                                                7533\n",
      "DMNDS, Strange Fruits Music, Fallen Roses, Lujavo, Nito-Onna     5512\n",
      "                                                                ...  \n",
      "Sterl Gotti                                                         1\n",
      "Alix Page                                                           1\n",
      "Mariah Angeliq                                                      1\n",
      "Kuttem Reese                                                        1\n",
      "Kiiara                                                              1\n",
      "Name: count, Length: 2419, dtype: int64\n",
      "Album Distribution:\n",
      "album\n",
      "Jalebi Baby                             40841\n",
      "Beautiful                               10649\n",
      "Beautiful Day                            9750\n",
      "ily (i love you baby) (feat. Emilee)     7533\n",
      "The Massacre                             5984\n",
      "                                        ...  \n",
      "Out The Mud                                 1\n",
      "Demonstrate                                 1\n",
      "Contigo                                     1\n",
      "Arcade (feat. FLETCHER)                     1\n",
      "low kii savage                              1\n",
      "Name: count, Length: 3254, dtype: int64\n"
     ]
    }
   ],
   "source": [
    "# Most popular artists\n",
    "artist_distribution = data['artist'].value_counts()\n",
    "print(\"Artist Distribution:\")\n",
    "print(artist_distribution)\n",
    "\n",
    "# Most popular albums\n",
    "album_distribution = data['album'].value_counts()\n",
    "print(\"Album Distribution:\")\n",
    "print(album_distribution)\n",
    "\n"
   ]
  },
  {
   "cell_type": "code",
   "execution_count": 8,
   "id": "00d94634",
   "metadata": {},
   "outputs": [
    {
     "name": "stdout",
     "output_type": "stream",
     "text": [
      "Unique Links Accessed: 3839\n"
     ]
    }
   ],
   "source": [
    "# Unique link IDs\n",
    "unique_links = data['linkid'].nunique()\n",
    "print(f\"Unique Links Accessed: {unique_links}\")\n",
    "\n"
   ]
  },
  {
   "cell_type": "code",
   "execution_count": 9,
   "id": "1d84f8f7",
   "metadata": {},
   "outputs": [
    {
     "name": "stdout",
     "output_type": "stream",
     "text": [
      "Clicks per Link:\n",
      "linkid\n",
      "2d896d31-97b6-4869-967b-1c5fb9cd4bb8    40841\n",
      "522da5cc-8177-4140-97a7-a84fdb4caf1c    10314\n",
      "e849515b-929d-44c8-a505-e7622f1827e9     9750\n",
      "c2c876ab-b093-4750-9449-6b4913da6af3     6733\n",
      "681d888a-59ce-4acb-b7c5-95dab0c063d9     5512\n",
      "                                        ...  \n",
      "edd9aa8c-f71c-5d3e-8a4c-4a2a18497591        1\n",
      "ff1ec49a-c80e-5bd3-aee3-ac51992b2b63        1\n",
      "7e614c15-2b7f-5155-b27d-fe0b3a849eb4        1\n",
      "e1d532fe-393a-5ecd-9bd0-fbf210af1443        1\n",
      "ac33e71b-209d-5503-a276-14ca46372a81        1\n",
      "Name: count, Length: 3839, dtype: int64\n"
     ]
    }
   ],
   "source": [
    "# Assuming each event is a click, you can count events per link\n",
    "clicks_per_link = data['linkid'].value_counts()\n",
    "print(\"Clicks per Link:\")\n",
    "print(clicks_per_link)\n"
   ]
  },
  {
   "cell_type": "code",
   "execution_count": null,
   "id": "75bc0855",
   "metadata": {},
   "outputs": [],
   "source": []
  },
  {
   "cell_type": "code",
   "execution_count": 10,
   "id": "6ae1f65c",
   "metadata": {},
   "outputs": [],
   "source": [
    "# corelation"
   ]
  },
  {
   "cell_type": "code",
   "execution_count": 11,
   "id": "178b329f",
   "metadata": {},
   "outputs": [
    {
     "name": "stdout",
     "output_type": "stream",
     "text": [
      "         artist                                linkid  event_count\n",
      "0          $Mar  da7dfc27-185b-541b-afd7-6ba989fe4f3e            1\n",
      "1          $NOT  7dce0523-d341-4ba8-9edb-f5d54ee78394            6\n",
      "2          $NOT  ce76b59e-aea4-58f1-ac63-16d2ef527140            4\n",
      "3  $hyfromdatre  17f88f13-7bfd-5730-bf65-e4dc0d3d648f            2\n",
      "4  $krrt Cobain  ffc3b266-3736-59d0-a665-8d3f7d7bb3dd            1\n"
     ]
    }
   ],
   "source": [
    "import pandas as pd\n",
    "\n",
    "# Load the dataset\n",
    "data = pd.read_csv(\"traffic.csv\")\n",
    "\n",
    "# Count events by artist and linkid\n",
    "artist_link_counts = data.groupby(['artist', 'linkid']).size().reset_index(name='event_count')\n",
    "\n",
    "# Display the counts\n",
    "print(artist_link_counts.head())\n"
   ]
  },
  {
   "cell_type": "code",
   "execution_count": 12,
   "id": "f76d8e42",
   "metadata": {},
   "outputs": [
    {
     "name": "stdout",
     "output_type": "stream",
     "text": [
      "linkid        00073307-ae96-5089-a117-4783afb42f8e  \\\n",
      "artist                                               \n",
      "$Mar                                           0.0   \n",
      "$NOT                                           0.0   \n",
      "$hyfromdatre                                   0.0   \n",
      "$krrt Cobain                                   0.0   \n",
      "$ofaygo                                        0.0   \n",
      "\n",
      "linkid        00126b32-0c35-507b-981c-02c80d2aa8e7  \\\n",
      "artist                                               \n",
      "$Mar                                           0.0   \n",
      "$NOT                                           0.0   \n",
      "$hyfromdatre                                   0.0   \n",
      "$krrt Cobain                                   0.0   \n",
      "$ofaygo                                        0.0   \n",
      "\n",
      "linkid        0018cfff-50a1-5984-9715-01ef2d11a49a  \\\n",
      "artist                                               \n",
      "$Mar                                           0.0   \n",
      "$NOT                                           0.0   \n",
      "$hyfromdatre                                   0.0   \n",
      "$krrt Cobain                                   0.0   \n",
      "$ofaygo                                        0.0   \n",
      "\n",
      "linkid        0033934b-5d16-5a06-af58-d087bcdd3680  \\\n",
      "artist                                               \n",
      "$Mar                                           0.0   \n",
      "$NOT                                           0.0   \n",
      "$hyfromdatre                                   0.0   \n",
      "$krrt Cobain                                   0.0   \n",
      "$ofaygo                                        0.0   \n",
      "\n",
      "linkid        0034d6cf-3bd8-5ffe-aafc-b3959fc48608  \\\n",
      "artist                                               \n",
      "$Mar                                           0.0   \n",
      "$NOT                                           0.0   \n",
      "$hyfromdatre                                   0.0   \n",
      "$krrt Cobain                                   0.0   \n",
      "$ofaygo                                        0.0   \n",
      "\n",
      "linkid        0038ff20-1ef7-5846-9f1a-4012fdf24da7  \\\n",
      "artist                                               \n",
      "$Mar                                           0.0   \n",
      "$NOT                                           0.0   \n",
      "$hyfromdatre                                   0.0   \n",
      "$krrt Cobain                                   0.0   \n",
      "$ofaygo                                        0.0   \n",
      "\n",
      "linkid        004b9724-abca-5481-b6e9-6148a7ca00a5  \\\n",
      "artist                                               \n",
      "$Mar                                           0.0   \n",
      "$NOT                                           0.0   \n",
      "$hyfromdatre                                   0.0   \n",
      "$krrt Cobain                                   0.0   \n",
      "$ofaygo                                        0.0   \n",
      "\n",
      "linkid        0062d109-f6f4-5637-8731-8ce38362c113  \\\n",
      "artist                                               \n",
      "$Mar                                           0.0   \n",
      "$NOT                                           0.0   \n",
      "$hyfromdatre                                   0.0   \n",
      "$krrt Cobain                                   0.0   \n",
      "$ofaygo                                        0.0   \n",
      "\n",
      "linkid        00633299-125d-5d5c-a081-3b2cc4d89ffd  \\\n",
      "artist                                               \n",
      "$Mar                                           0.0   \n",
      "$NOT                                           0.0   \n",
      "$hyfromdatre                                   0.0   \n",
      "$krrt Cobain                                   0.0   \n",
      "$ofaygo                                        0.0   \n",
      "\n",
      "linkid        0063a982-41cd-5629-96d0-e1c4dd72ea11  ...  \\\n",
      "artist                                              ...   \n",
      "$Mar                                           0.0  ...   \n",
      "$NOT                                           0.0  ...   \n",
      "$hyfromdatre                                   0.0  ...   \n",
      "$krrt Cobain                                   0.0  ...   \n",
      "$ofaygo                                        0.0  ...   \n",
      "\n",
      "linkid        ffd3c9e7-c5c5-4f28-b03d-cbaec33f2152  \\\n",
      "artist                                               \n",
      "$Mar                                           0.0   \n",
      "$NOT                                           0.0   \n",
      "$hyfromdatre                                   0.0   \n",
      "$krrt Cobain                                   0.0   \n",
      "$ofaygo                                        0.0   \n",
      "\n",
      "linkid        ffd73f8e-4481-57d7-8285-9b76993b83aa  \\\n",
      "artist                                               \n",
      "$Mar                                           0.0   \n",
      "$NOT                                           0.0   \n",
      "$hyfromdatre                                   0.0   \n",
      "$krrt Cobain                                   0.0   \n",
      "$ofaygo                                        0.0   \n",
      "\n",
      "linkid        ffd8d5a7-91bc-48e1-a692-c26fca8a8ead  \\\n",
      "artist                                               \n",
      "$Mar                                           0.0   \n",
      "$NOT                                           0.0   \n",
      "$hyfromdatre                                   0.0   \n",
      "$krrt Cobain                                   0.0   \n",
      "$ofaygo                                        0.0   \n",
      "\n",
      "linkid        ffe057fd-bc1b-5e12-bca2-7d2d2786facd  \\\n",
      "artist                                               \n",
      "$Mar                                           0.0   \n",
      "$NOT                                           0.0   \n",
      "$hyfromdatre                                   0.0   \n",
      "$krrt Cobain                                   0.0   \n",
      "$ofaygo                                        0.0   \n",
      "\n",
      "linkid        ffeafbfb-28da-58a7-9933-d2204848c47c  \\\n",
      "artist                                               \n",
      "$Mar                                           0.0   \n",
      "$NOT                                           0.0   \n",
      "$hyfromdatre                                   0.0   \n",
      "$krrt Cobain                                   0.0   \n",
      "$ofaygo                                        0.0   \n",
      "\n",
      "linkid        fff38ca0-8043-50cd-a5f1-f65ebb7105c5  \\\n",
      "artist                                               \n",
      "$Mar                                           0.0   \n",
      "$NOT                                           0.0   \n",
      "$hyfromdatre                                   0.0   \n",
      "$krrt Cobain                                   0.0   \n",
      "$ofaygo                                        0.0   \n",
      "\n",
      "linkid        fff4e5f0-4ee5-5fe7-aa30-e870edaf6ed7  \\\n",
      "artist                                               \n",
      "$Mar                                           0.0   \n",
      "$NOT                                           0.0   \n",
      "$hyfromdatre                                   0.0   \n",
      "$krrt Cobain                                   0.0   \n",
      "$ofaygo                                        0.0   \n",
      "\n",
      "linkid        fff84c0e-90a1-59d8-9997-adc909d50e16  \\\n",
      "artist                                               \n",
      "$Mar                                           0.0   \n",
      "$NOT                                           0.0   \n",
      "$hyfromdatre                                   0.0   \n",
      "$krrt Cobain                                   0.0   \n",
      "$ofaygo                                        0.0   \n",
      "\n",
      "linkid        fffc17a7-f935-5d3e-bd3e-d761fd80d479  \\\n",
      "artist                                               \n",
      "$Mar                                           0.0   \n",
      "$NOT                                           0.0   \n",
      "$hyfromdatre                                   0.0   \n",
      "$krrt Cobain                                   0.0   \n",
      "$ofaygo                                        0.0   \n",
      "\n",
      "linkid        fffd0045-29de-522b-b5d8-35786363bf07  \n",
      "artist                                              \n",
      "$Mar                                           0.0  \n",
      "$NOT                                           0.0  \n",
      "$hyfromdatre                                   0.0  \n",
      "$krrt Cobain                                   0.0  \n",
      "$ofaygo                                        0.0  \n",
      "\n",
      "[5 rows x 3822 columns]\n"
     ]
    }
   ],
   "source": [
    "# Pivot the data to create a matrix of event counts\n",
    "pivot_table = artist_link_counts.pivot(index='artist', columns='linkid', values='event_count').fillna(0)\n",
    "\n",
    "# Display the pivot table\n",
    "print(pivot_table.head())\n"
   ]
  },
  {
   "cell_type": "code",
   "execution_count": null,
   "id": "297919a5",
   "metadata": {},
   "outputs": [],
   "source": [
    "# Calculate the correlation matrix\n",
    "correlation_matrix = pivot_table.corr()\n",
    "\n",
    "# Display the correlation matrix\n",
    "print(\"Correlation Matrix:\")\n",
    "print(correlation_matrix)\n"
   ]
  },
  {
   "cell_type": "code",
   "execution_count": null,
   "id": "03a9805d",
   "metadata": {},
   "outputs": [],
   "source": [
    "import seaborn as sns\n",
    "import matplotlib.pyplot as plt\n",
    "\n",
    "plt.figure(figsize=(10, 8))\n",
    "sns.heatmap(correlation_matrix, annot=True, fmt=\".2f\", cmap='coolwarm')\n",
    "plt.title('Correlation Matrix of Event Counts by Artist and Link')\n",
    "plt.show()\n"
   ]
  },
  {
   "cell_type": "code",
   "execution_count": null,
   "id": "1ecdca71",
   "metadata": {},
   "outputs": [],
   "source": []
  },
  {
   "cell_type": "code",
   "execution_count": null,
   "id": "28213a17",
   "metadata": {},
   "outputs": [],
   "source": []
  },
  {
   "cell_type": "code",
   "execution_count": null,
   "id": "50be77e9",
   "metadata": {},
   "outputs": [],
   "source": []
  }
 ],
 "metadata": {
  "kernelspec": {
   "display_name": "Python 3 (ipykernel)",
   "language": "python",
   "name": "python3"
  },
  "language_info": {
   "codemirror_mode": {
    "name": "ipython",
    "version": 3
   },
   "file_extension": ".py",
   "mimetype": "text/x-python",
   "name": "python",
   "nbconvert_exporter": "python",
   "pygments_lexer": "ipython3",
   "version": "3.11.5"
  }
 },
 "nbformat": 4,
 "nbformat_minor": 5
}
